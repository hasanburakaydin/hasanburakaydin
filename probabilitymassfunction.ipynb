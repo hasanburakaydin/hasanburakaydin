{
  "nbformat": 4,
  "nbformat_minor": 0,
  "metadata": {
    "colab": {
      "name": "probabilitymassfunction.ipynb",
      "provenance": [],
      "collapsed_sections": [],
      "authorship_tag": "ABX9TyM5VNniEqdQ62FBNoOIqKq/",
      "include_colab_link": true
    },
    "kernelspec": {
      "name": "python3",
      "display_name": "Python 3"
    },
    "language_info": {
      "name": "python"
    }
  },
  "cells": [
    {
      "cell_type": "markdown",
      "metadata": {
        "id": "view-in-github",
        "colab_type": "text"
      },
      "source": [
        "<a href=\"https://colab.research.google.com/github/hasanburakaydin/hasanburakaydin/blob/main/probabilitymassfunction.ipynb\" target=\"_parent\"><img src=\"https://colab.research.google.com/assets/colab-badge.svg\" alt=\"Open In Colab\"/></a>"
      ]
    },
    {
      "cell_type": "markdown",
      "metadata": {
        "id": "NDCV9dKRMJsA"
      },
      "source": [
        "Faruk ve Talha isimli öğrencilerden **birini** seçeceğiz.\n",
        "*   Faruk’u seçme olasılığımız **P(F) = 0.6**,\n",
        "*   Talha’yı seçme olasılığımız **P(T) = 0.4** olsun. \n",
        "*   Bu durumu **bernoulli** diyagramı ile gösterebiliriz.\n",
        "*   **Bernoulli ayrık rassal değişkenler**den oluşan bir diyagramdır.\n",
        "*   Bu yüzden **Olasılık kütle fonksiyonu (PMF)**‘yi kullanmalıyız."
      ]
    },
    {
      "cell_type": "code",
      "metadata": {
        "colab": {
          "base_uri": "https://localhost:8080/",
          "height": 314
        },
        "id": "dONfi0GFMe4n",
        "outputId": "14dbf23a-c10c-4a13-d1a6-2b1aa400fe0a"
      },
      "source": [
        "## 205112015 Hasan Burak AYDIN Olasılık Kütle Fonksiyonu (PMF) Çalışması\n",
        "\n",
        "from scipy.stats import bernoulli #bernoulli kütle yoğunluk fonksiyonunun plot diyagramı için kütüphanelerin dahil edilmesi\n",
        "import matplotlib.pyplot as plt\n",
        "\n",
        "X = [0,1]  #X rassal değişkenimizin aldığı değerlerin diziye atanması\n",
        "pF = 0.6   #Faruk'u seçme olasılığının pF değişkenine atanması\n",
        "plt.bar(X,bernoulli.pmf(X,pF),width=0.1,color=[\"r\",\"b\"]) #bernoulli kütle yoğunluk fonksiyonunun plot diyagramının çizilmesi\n",
        "plt.title(\"OLASILIK KÜTLE FONKSİYONU\")\n",
        "plt.xlabel(\"X RASSAL DEĞİŞKENİNİN DEĞERLERİ\")\n",
        "plt.ylabel(\"OLAYIN GERÇEKLEŞMESİ OLASILIĞI\")\n",
        "\n",
        "\n"
      ],
      "execution_count": 1,
      "outputs": [
        {
          "output_type": "execute_result",
          "data": {
            "text/plain": [
              "Text(0, 0.5, 'OLAYIN GERÇEKLEŞMESİ OLASILIĞI')"
            ]
          },
          "metadata": {
            "tags": []
          },
          "execution_count": 1
        },
        {
          "output_type": "display_data",
          "data": {
            "image/png": "[encoded data removed]",
            "text/plain": [
              "<Figure size 432x288 with 1 Axes>"
            ]
          },
          "metadata": {
            "tags": [],
            "needs_background": "light"
          }
        }
      ]
    },
    {
      "cell_type": "code",
      "metadata": {
        "id": "8cTMGS4ZPA5p"
      },
      "source": [
        ""
      ],
      "execution_count": null,
      "outputs": []
    }
  ]
}